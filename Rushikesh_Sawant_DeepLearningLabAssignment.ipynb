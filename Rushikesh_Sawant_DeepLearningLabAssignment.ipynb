{
  "cells": [
    {
      "cell_type": "markdown",
      "source": [
        "#Practice Lab Neural Network 1\n",
        "Student Information:\n",
        "Name: Rushikesh Sawant\n",
        "\n",
        "Roll Number: 56\n",
        "\n",
        "Batch: A3\n",
        "\n",
        "Date of Submission: 30-02-2026"
      ],
      "metadata": {
        "id": "7b1uKp0xeNLb"
      }
    },
    {
      "cell_type": "markdown",
      "source": [
        "#Neural Network Implementation from Scratch\n",
        "###1. Objective\n",
        "Implement a simple feedforward neural network from scratch in Python without using any deep learning libraries (e.g., TensorFlow, PyTorch). The implementation includes:\n",
        "\n",
        "Forward pass\n",
        "\n",
        "Backpropagation\n",
        "\n",
        "Training using gradient descent\n",
        "\n",
        "###2. Problem Definition\n",
        "Dataset\n",
        "Dataset Name: [MNIST / Iris / Custom Dataset]\n",
        "\n",
        "Description: [Briefly describe the dataset, e.g., \"MNIST dataset contains 60,000 training and 10,000 test images of handwritten digits (0-9).\"]\n",
        "\n",
        "Task: [Classification / Regression]\n",
        "\n",
        "Example:\n",
        "For MNIST: Classify handwritten digits (0-9).\n",
        "\n",
        "For Iris: Classify iris flowers into three species."
      ],
      "metadata": {
        "id": "IeijxlqZegSg"
      }
    },
    {
      "cell_type": "markdown",
      "source": [
        "###3. Methodology\n",
        "Neural Network Architecture\n",
        "Input Layer: 4\n",
        "\n",
        "Hidden Layer(s):5\n",
        "\n",
        "Output Layer: 1\n",
        "\n",
        "Activation Functions:\n",
        "\n",
        "Hidden Layer: [ReLU / Sigmoid / Tanh]\n",
        "\n",
        "Output Layer: [Softmax (Classification) / Linear (Regression)]\n",
        "\n",
        "Forward Pass\n",
        "Weighted Sum: Compute\n",
        "z\n",
        "=\n",
        "W\n",
        "⋅\n",
        "X\n",
        "+\n",
        "b\n",
        "z=W⋅X+b\n",
        "\n",
        "Activation: Apply activation function\n",
        "a\n",
        "=\n",
        "σ\n",
        "(\n",
        "z\n",
        ")\n",
        "a=σ(z)\n",
        "\n",
        "Propagate: Pass output to the next layer\n",
        "\n",
        "Backpropagation\n",
        "Compute Loss: Calculate error using [Cross-Entropy / MSE]\n",
        "\n",
        "Gradient Calculation:\n",
        "\n",
        "Derivative of loss w.r.t weights\n",
        "\n",
        "Derivative of activation functions\n",
        "\n",
        "Update Weights: Adjust weights using gradient descent\n",
        "\n",
        "Loss Function\n",
        "Classification: Cross-Entropy Loss\n",
        "\n",
        "Regression: Mean Squared Error (MSE)\n",
        "\n",
        "Optimization\n",
        "Algorithm: Gradient Descent / Stochastic Gradient Descent (SGD)\n",
        "\n",
        "Learning Rate: [Specify value, e.g., 0.01]\n",
        "\n"
      ],
      "metadata": {
        "id": "9lO2XTxVetmc"
      }
    },
    {
      "cell_type": "markdown",
      "source": [
        "###4. Implementation\n",
        "Import Required Libraries"
      ],
      "metadata": {
        "id": "n9e7F2YHe2y7"
      }
    },
    {
      "cell_type": "code",
      "source": [
        "import numpy as np\n",
        "import matplotlib.pyplot as plt\n",
        "from sklearn.datasets import load_iris\n",
        "from sklearn.model_selection import train_test_split"
      ],
      "metadata": {
        "id": "rGNWM87Re5QB"
      },
      "execution_count": 1,
      "outputs": []
    },
    {
      "cell_type": "markdown",
      "source": [
        "Load and Preprocess Dataset"
      ],
      "metadata": {
        "id": "z1cUOcG1e-Ju"
      }
    },
    {
      "cell_type": "code",
      "source": [
        "# Example: Iris Dataset\n",
        "data = load_iris()\n",
        "X = data.data\n",
        "y = data.target\n",
        "\n",
        "# Split into train-test\n",
        "X_train, X_test, y_train, y_test = train_test_split(X, y, test_size=0.2, random_state=42)"
      ],
      "metadata": {
        "id": "nlqaDs_ae_LG"
      },
      "execution_count": 2,
      "outputs": []
    },
    {
      "cell_type": "markdown",
      "source": [
        "Neural Network Class"
      ],
      "metadata": {
        "id": "9adPEvMDfEos"
      }
    },
    {
      "cell_type": "code",
      "source": [
        "class NeuralNetwork:\n",
        "    def __init__(self, input_size, hidden_size, output_size):\n",
        "        self.W1 = np.random.randn(input_size, hidden_size) * 0.01\n",
        "        self.b1 = np.zeros((1, hidden_size))\n",
        "        self.W2 = np.random.randn(hidden_size, output_size) * 0.01\n",
        "        self.b2 = np.zeros((1, output_size))\n",
        "\n",
        "    def sigmoid(self, x):\n",
        "        return 1 / (1 + np.exp(-x))\n",
        "\n",
        "    def forward(self, X):\n",
        "        self.z1 = np.dot(X, self.W1) + self.b1\n",
        "        self.a1 = self.sigmoid(self.z1)\n",
        "        self.z2 = np.dot(self.a1, self.W2) + self.b2\n",
        "        self.a2 = self.sigmoid(self.z2)\n",
        "        return self.a2\n",
        "\n",
        "    def backward(self, X, y, learning_rate):\n",
        "        m = X.shape[0]\n",
        "\n",
        "        # Compute gradients\n",
        "        dZ2 = self.a2 - y\n",
        "        dW2 = np.dot(self.a1.T, dZ2) / m\n",
        "        db2 = np.sum(dZ2, axis=0, keepdims=True) / m\n",
        "\n",
        "        dA1 = np.dot(dZ2, self.W2.T)\n",
        "        dZ1 = dA1 * self.a1 * (1 - self.a1)\n",
        "        dW1 = np.dot(X.T, dZ1) / m\n",
        "        db1 = np.sum(dZ1, axis=0, keepdims=True) / m\n",
        "\n",
        "        # Update weights\n",
        "        self.W2 -= learning_rate * dW2\n",
        "        self.b2 -= learning_rate * db2\n",
        "        self.W1 -= learning_rate * dW1\n",
        "        self.b1 -= learning_rate * db1\n",
        "\n",
        "    def train(self, X, y, epochs, learning_rate):\n",
        "        for epoch in range(epochs):\n",
        "            output = self.forward(X)\n",
        "            self.backward(X, y, learning_rate)\n",
        "\n",
        "            if epoch % 100 == 0:\n",
        "                loss = np.mean((output - y) ** 2)\n",
        "                print(f\"Epoch {epoch}, Loss: {loss:.4f}\")"
      ],
      "metadata": {
        "id": "J2jYC1btfFam"
      },
      "execution_count": 3,
      "outputs": []
    },
    {
      "cell_type": "markdown",
      "source": [
        "Train the Model"
      ],
      "metadata": {
        "id": "oCw8PQlTfOW8"
      }
    },
    {
      "cell_type": "code",
      "source": [
        "!pip install scikit-learn\n",
        "import numpy as np\n",
        "import matplotlib.pyplot as plt\n",
        "from sklearn.datasets import load_iris\n",
        "from sklearn.model_selection import train_test_split\n",
        "from sklearn.preprocessing import OneHotEncoder  # Import OneHotEncoder\n",
        "\n",
        "# Example: Iris Dataset\n",
        "data = load_iris()\n",
        "X = data.data\n",
        "y = data.target\n",
        "\n",
        "# One-hot encode the target variable\n",
        "encoder = OneHotEncoder(sparse_output=False)  # Create an instance of OneHotEncoder\n",
        "y = encoder.fit_transform(y.reshape(-1, 1))  # Reshape y and fit_transform\n",
        "\n",
        "# Split into train-test\n",
        "X_train, X_test, y_train, y_test = train_test_split(X, y, test_size=0.2, random_state=42)\n",
        "\n",
        "class NeuralNetwork:\n",
        "    def __init__(self, input_size, hidden_size, output_size):\n",
        "        self.W1 = np.random.randn(input_size, hidden_size) * 0.01\n",
        "        self.b1 = np.zeros((1, hidden_size))\n",
        "        self.W2 = np.random.randn(hidden_size, output_size) * 0.01\n",
        "        self.b2 = np.zeros((1, output_size))\n",
        "\n",
        "    def sigmoid(self, x):\n",
        "        return 1 / (1 + np.exp(-x))\n",
        "\n",
        "    def forward(self, X):\n",
        "        self.z1 = np.dot(X, self.W1) + self.b1\n",
        "        self.a1 = self.sigmoid(self.z1)\n",
        "        self.z2 = np.dot(self.a1, self.W2) + self.b2\n",
        "        self.a2 = self.sigmoid(self.z2)\n",
        "        return self.a2\n",
        "\n",
        "    def backward(self, X, y, learning_rate):\n",
        "        m = X.shape[0]\n",
        "\n",
        "        # Compute gradients\n",
        "        dZ2 = self.a2 - y  # Now y is one-hot encoded\n",
        "        dW2 = np.dot(self.a1.T, dZ2) / m\n",
        "        db2 = np.sum(dZ2, axis=0, keepdims=True) / m\n",
        "\n",
        "        dA1 = np.dot(dZ2, self.W2.T)\n",
        "        dZ1 = dA1 * self.a1 * (1 - self.a1)\n",
        "        dW1 = np.dot(X.T, dZ1) / m\n",
        "        db1 = np.sum(dZ1, axis=0, keepdims=True) / m\n",
        "\n",
        "        # Update weights\n",
        "        self.W2 -= learning_rate * dW2\n",
        "        self.b2 -= learning_rate * db2\n",
        "        self.W1 -= learning_rate * dW1\n",
        "        self.b1 -= learning_rate * db1\n",
        "\n",
        "    def train(self, X, y, epochs, learning_rate):\n",
        "        for epoch in range(epochs):\n",
        "            output = self.forward(X)\n",
        "            self.backward(X, y, learning_rate)\n",
        "\n",
        "            if epoch % 100 == 0:\n",
        "                loss = np.mean((output - y) ** 2)\n",
        "                print(f\"Epoch {epoch}, Loss: {loss:.4f}\")\n",
        "\n",
        "# Example: Binary Classification (Modify for multi-class)\n",
        "nn = NeuralNetwork(input_size=4, hidden_size=5, output_size=3)  # Adjust output_size to 3\n",
        "nn.train(X_train, y_train, epochs=1000, learning_rate=0.01)"
      ],
      "metadata": {
        "colab": {
          "base_uri": "https://localhost:8080/"
        },
        "id": "mfep4dYefOLw",
        "outputId": "0e38c21c-713a-4a86-9787-dfbe48ef17f5"
      },
      "execution_count": 5,
      "outputs": [
        {
          "output_type": "stream",
          "name": "stdout",
          "text": [
            "Requirement already satisfied: scikit-learn in /usr/local/lib/python3.11/dist-packages (1.6.1)\n",
            "Requirement already satisfied: numpy>=1.19.5 in /usr/local/lib/python3.11/dist-packages (from scikit-learn) (2.0.2)\n",
            "Requirement already satisfied: scipy>=1.6.0 in /usr/local/lib/python3.11/dist-packages (from scikit-learn) (1.15.2)\n",
            "Requirement already satisfied: joblib>=1.2.0 in /usr/local/lib/python3.11/dist-packages (from scikit-learn) (1.4.2)\n",
            "Requirement already satisfied: threadpoolctl>=3.1.0 in /usr/local/lib/python3.11/dist-packages (from scikit-learn) (3.6.0)\n",
            "Epoch 0, Loss: 0.2503\n",
            "Epoch 100, Loss: 0.2306\n",
            "Epoch 200, Loss: 0.2241\n",
            "Epoch 300, Loss: 0.2224\n",
            "Epoch 400, Loss: 0.2219\n",
            "Epoch 500, Loss: 0.2217\n",
            "Epoch 600, Loss: 0.2215\n",
            "Epoch 700, Loss: 0.2211\n",
            "Epoch 800, Loss: 0.2206\n",
            "Epoch 900, Loss: 0.2199\n"
          ]
        }
      ]
    },
    {
      "cell_type": "markdown",
      "source": [
        "Evaluate Model"
      ],
      "metadata": {
        "id": "U_N72x5NfneE"
      }
    },
    {
      "cell_type": "code",
      "source": [
        "predictions = nn.forward(X_test)\n",
        "accuracy = np.mean((predictions > 0.5) == y_test)\n",
        "print(f\"Test Accuracy: {accuracy * 100:.2f}%\")"
      ],
      "metadata": {
        "colab": {
          "base_uri": "https://localhost:8080/"
        },
        "id": "mgmiCftZfoU0",
        "outputId": "9cd7fcf9-a77c-4df9-bbf5-cbe8cce8fb2c"
      },
      "execution_count": 6,
      "outputs": [
        {
          "output_type": "stream",
          "name": "stdout",
          "text": [
            "Test Accuracy: 66.67%\n"
          ]
        }
      ]
    },
    {
      "cell_type": "markdown",
      "source": [
        "###5. Results & Visualization\n",
        "Training Loss Curve"
      ],
      "metadata": {
        "id": "UMlteFZZfubM"
      }
    },
    {
      "cell_type": "code",
      "source": [
        "import numpy as np\n",
        "import matplotlib.pyplot as plt\n",
        "from sklearn.datasets import load_iris\n",
        "from sklearn.model_selection import train_test_split\n",
        "from sklearn.preprocessing import OneHotEncoder  # Import OneHotEncoder\n",
        "\n",
        "# Example: Iris Dataset\n",
        "data = load_iris()\n",
        "X = data.data\n",
        "y = data.target\n",
        "\n",
        "# One-hot encode the target variable\n",
        "encoder = OneHotEncoder(sparse_output=False)  # Create an instance of OneHotEncoder\n",
        "y = encoder.fit_transform(y.reshape(-1, 1))  # Reshape y and fit_transform\n",
        "\n",
        "# Split into train-test\n",
        "X_train, X_test, y_train, y_test = train_test_split(X, y, test_size=0.2, random_state=42)\n",
        "\n",
        "class NeuralNetwork:\n",
        "    def __init__(self, input_size, hidden_size, output_size):\n",
        "        self.W1 = np.random.randn(input_size, hidden_size) * 0.01\n",
        "        self.b1 = np.zeros((1, hidden_size))\n",
        "        self.W2 = np.random.randn(hidden_size, output_size) * 0.01\n",
        "        self.b2 = np.zeros((1, output_size))\n",
        "\n",
        "    def sigmoid(self, x):\n",
        "        return 1 / (1 + np.exp(-x))\n",
        "\n",
        "    def forward(self, X):\n",
        "        self.z1 = np.dot(X, self.W1) + self.b1\n",
        "        self.a1 = self.sigmoid(self.z1)\n",
        "        self.z2 = np.dot(self.a1, self.W2) + self.b2\n",
        "        self.a2 = self.sigmoid(self.z2)\n",
        "        return self.a2\n",
        "\n",
        "    def backward(self, X, y, learning_rate):\n",
        "        m = X.shape[0]\n",
        "\n",
        "        # Compute gradients\n",
        "        dZ2 = self.a2 - y  # Now y is one-hot encoded\n",
        "        dW2 = np.dot(self.a1.T, dZ2) / m\n",
        "        db2 = np.sum(dZ2, axis=0, keepdims=True) / m\n",
        "\n",
        "        dA1 = np.dot(dZ2, self.W2.T)\n",
        "        dZ1 = dA1 * self.a1 * (1 - self.a1)\n",
        "        dW1 = np.dot(X.T, dZ1) / m\n",
        "        db1 = np.sum(dZ1, axis=0, keepdims=True) / m\n",
        "\n",
        "        # Update weights\n",
        "        self.W2 -= learning_rate * dW2\n",
        "        self.b2 -= learning_rate * db2\n",
        "        self.W1 -= learning_rate * dW1\n",
        "        self.b1 -= learning_rate * db1\n",
        "\n",
        "    def train(self, X, y, epochs, learning_rate):\n",
        "        loss_history = []  # Initialize loss_history to store loss values\n",
        "        for epoch in range(epochs):\n",
        "            output = self.forward(X)\n",
        "            self.backward(X, y, learning_rate)\n",
        "\n",
        "            if epoch % 100 == 0:\n",
        "                loss = np.mean((output - y) ** 2)\n",
        "                loss_history.append(loss)  # Append loss to loss_history\n",
        "                print(f\"Epoch {epoch}, Loss: {loss:.4f}\")\n",
        "        return loss_history # Return the loss history\n",
        "\n",
        "# Example: Binary Classification (Modify for multi-class)\n",
        "nn = NeuralNetwork(input_size=4, hidden_size=5, output_size=3)  # Adjust output_size to 3\n",
        "loss_history = nn.train(X_train, y_train, epochs=1000, learning_rate=0.01) # Get the loss history\n",
        "\n",
        "# Now you can plot the loss history\n",
        "plt.plot(loss_history)\n",
        "plt.xlabel('Epochs')\n",
        "plt.ylabel('Loss')\n",
        "plt.title('Training Loss')\n",
        "plt.show()"
      ],
      "metadata": {
        "colab": {
          "base_uri": "https://localhost:8080/",
          "height": 646
        },
        "id": "NmL0YefEfwf1",
        "outputId": "da83eaea-e5ae-4cae-ee71-735f0b5606c1"
      },
      "execution_count": 9,
      "outputs": [
        {
          "output_type": "stream",
          "name": "stdout",
          "text": [
            "Epoch 0, Loss: 0.2502\n",
            "Epoch 100, Loss: 0.2304\n",
            "Epoch 200, Loss: 0.2239\n",
            "Epoch 300, Loss: 0.2224\n",
            "Epoch 400, Loss: 0.2220\n",
            "Epoch 500, Loss: 0.2219\n",
            "Epoch 600, Loss: 0.2217\n",
            "Epoch 700, Loss: 0.2216\n",
            "Epoch 800, Loss: 0.2214\n",
            "Epoch 900, Loss: 0.2212\n"
          ]
        },
        {
          "output_type": "display_data",
          "data": {
            "text/plain": [
              "<Figure size 640x480 with 1 Axes>"
            ],
            "image/png": "[encoded data removed]"
          },
          "metadata": {}
        }
      ]
    },
    {
      "cell_type": "markdown",
      "source": [
        "6. Declaration\n",
        "I, Rushikesh Sawant, confirm that the work submitted in this assignment is my own and has been completed following academic integrity guidelines. The code is uploaded on my GitHub repository account, and the repository link is provided below:\n",
        "\n",
        "🔗 GitHub Repository Link:https://github.com/Rushii2002-lab/Assign01.git\n",
        "\n",
        "✍️ Signature: rushikesh Sawant"
      ],
      "metadata": {
        "id": "Hu069kFJgBYd"
      }
    }
  ],
  "metadata": {
    "colab": {
      "toc_visible": true,
      "provenance": []
    },
    "kernelspec": {
      "display_name": "Python 3",
      "name": "python3"
    }
  },
  "nbformat": 4,
  "nbformat_minor": 0
}